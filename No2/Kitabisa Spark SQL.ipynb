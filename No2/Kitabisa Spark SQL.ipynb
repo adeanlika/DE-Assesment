{
 "cells": [
  {
   "cell_type": "code",
   "execution_count": 32,
   "metadata": {},
   "outputs": [],
   "source": [
    "from pyspark import SparkContext\n",
    "from pyspark.sql.functions import from_utc_timestamp\n",
    "from pyspark.sql import functions as f\n",
    "from pyspark.sql import types as t\n",
    "from pyspark.sql import SparkSession"
   ]
  },
  {
   "cell_type": "code",
   "execution_count": 2,
   "metadata": {},
   "outputs": [],
   "source": [
    "spark = SparkSession.builder.getOrCreate()"
   ]
  },
  {
   "cell_type": "code",
   "execution_count": 7,
   "metadata": {},
   "outputs": [],
   "source": [
    "donation = spark.read.csv('donation.csv', header=True)"
   ]
  },
  {
   "cell_type": "code",
   "execution_count": 86,
   "metadata": {},
   "outputs": [],
   "source": [
    "donation_cleaned.createOrReplaceTempView(\"donation\")"
   ]
  },
  {
   "cell_type": "code",
   "execution_count": 57,
   "metadata": {},
   "outputs": [],
   "source": [
    "donation_cleaned = donation.withColumn('created', f.from_unixtime('created').cast('date'))\n",
    "donation_cleaned = donation_cleaned.withColumn('updated', f.from_unixtime('updated').cast('date'))"
   ]
  },
  {
   "cell_type": "code",
   "execution_count": 75,
   "metadata": {},
   "outputs": [
    {
     "name": "stdout",
     "output_type": "stream",
     "text": [
      "+-------+-----------+-------+------+----------+----------+------+--------+\n",
      "|     id|campaign_id|user_id|amount|   created|   updated|status|platform|\n",
      "+-------+-----------+-------+------+----------+----------+------+--------+\n",
      "|3547706|     115501|4023041| 10000|2019-12-03|2019-12-03|     4| android|\n",
      "|3547705|     115501|4023041|  1000|2019-12-08|2019-12-06|     4| android|\n",
      "|3547704|     115501|4023041| 20000|2019-12-14|2019-12-13|     4| android|\n",
      "|3547703|     115501|4023041|  1000|2019-12-03|2019-12-04|     4| android|\n",
      "|3547702|     104915|4023530|100000|2019-12-07|2019-12-06|     4|     pwa|\n",
      "|3547701|      38661|4023390| 50000|2019-12-09|2019-12-11|     1|     pwa|\n",
      "|3547700|      38661|1756198| 10000|2019-12-04|2019-12-08|     1| desktop|\n",
      "|3547699|      38661|1756198| 25000|2019-12-06|2019-12-13|     1| desktop|\n",
      "|3547698|      38661|1756198| 20000|2019-12-03|2019-12-13|     9| desktop|\n",
      "|3547697|      38661|1756198| 15000|2019-12-10|2019-12-13|     9| desktop|\n",
      "|3547696|      38661|1756198| 15000|2019-12-10|2019-12-14|     1| desktop|\n",
      "|3547695|      38661|1756198| 10000|2019-12-09|2019-12-06|     1| desktop|\n",
      "|3547694|     146467| 487866|100000|2019-12-07|2019-12-08|     9| desktop|\n",
      "|3547693|     115501|4023529| 10000|2019-12-12|2019-12-10|     2| desktop|\n",
      "|3547692|     115501|4023527| 10000|2019-12-05|2019-12-13|     1| desktop|\n",
      "|3547691|      18856|1756214| 20000|2019-12-08|2019-12-13|     4| desktop|\n",
      "|3547690|     115501|4023527| 10000|2019-12-03|2019-12-07|     1| desktop|\n",
      "|3547689|     146467|4023525| 10000|2019-12-11|2019-12-12|     2| desktop|\n",
      "|3547688|      18856|1756214| 10000|2019-12-07|2019-12-10|     9| desktop|\n",
      "|3547687|     115501|4023524| 10000|2019-12-03|2019-12-04|     2| desktop|\n",
      "+-------+-----------+-------+------+----------+----------+------+--------+\n",
      "only showing top 20 rows\n",
      "\n"
     ]
    }
   ],
   "source": [
    "donation_cleaned.show()"
   ]
  },
  {
   "cell_type": "code",
   "execution_count": 79,
   "metadata": {},
   "outputs": [],
   "source": [
    "campaign = spark.read.csv('campaign.csv', header=True)"
   ]
  },
  {
   "cell_type": "code",
   "execution_count": 83,
   "metadata": {},
   "outputs": [],
   "source": [
    "campaign_cleaned = campaign.withColumn('created', f.from_unixtime('created').cast('date'))\n",
    "campaign_cleaned = campaign_cleaned.withColumn('updated', f.from_unixtime('updated').cast('date'))"
   ]
  },
  {
   "cell_type": "code",
   "execution_count": 85,
   "metadata": {},
   "outputs": [
    {
     "name": "stdout",
     "output_type": "stream",
     "text": [
      "+------+--------------------+--------+-------+----------+----------+-------------------+--------------------+\n",
      "|    id|               title|  status|user_id|   created|   updated|                url|            category|\n",
      "+------+--------------------+--------+-------+----------+----------+-------------------+--------------------+\n",
      "|115501|Gabung Bersama Ge...|    LIVE| 671517|2019-04-04|2020-02-10|         gojeksehat|Bantuan Medis & K...|\n",
      "| 19117|bantu ojan gerak ...|    LIVE|  44648|2016-06-24|2020-02-10|           opengoal|Sarana & Infrastr...|\n",
      "| 14322|Program Bantuan W...|LIVE EXT|  38314|2016-01-14|2020-02-10|      dhuafamandiri|               Zakat|\n",
      "|104915|#BisaSekolah Bers...|    LIVE|  16084|2019-02-04|2020-02-10|        bisasekolah|Bantuan Medis & K...|\n",
      "| 18856|Paket #THR2 untuk...|    LIVE|  96526|2016-06-20|2020-02-10|     1000daitangguh|  Hadiah & Apresiasi|\n",
      "| 87067|#BisaSembuh Bersa...|    LIVE|  16084|2018-11-05|2020-02-10|         bisasembuh|Bantuan Medis & K...|\n",
      "|146467|   medis rumah sakit|    LIVE|1747188|2019-09-17|2020-02-10|    medisrumahsakit|Bantuan Medis & K...|\n",
      "| 12836|Pendidikan Untuk ...|LIVE EXT|   2199|2015-11-04|2020-02-10|       griyabintang|Beasiswa & Pendid...|\n",
      "| 17804|         Rumah Zakat|    LIVE|  38314|2016-05-27|2020-02-10|         rumahzakat|               Zakat|\n",
      "| 92799|Bantu Merin Melaw...|    LIVE|1192443|2018-12-08|2020-02-10|         bantumerin|Bantuan Medis & K...|\n",
      "| 38661|Dukungan Indonesi...|    LIVE|1756214|2017-08-04|2020-02-10|         pesawatr80|    Produk & Inovasi|\n",
      "|100431|Mari Bantu Kami B...|    LIVE| 132488|2019-01-12|2020-02-10|    sulaimanalfatih|        Rumah Ibadah|\n",
      "|170442|Campaign PelariBa...|    LIVE|1756214|2020-01-20|2020-02-10|         pelaribaik|     Kegiatan Sosial|\n",
      "|170441|Bantu Shimi sembu...|    LIVE|1756214|2020-01-17|2020-02-10|         bantushimi|Bantuan Medis & K...|\n",
      "|170439|Bantu Afiya untuk...|    LIVE|1756214|2020-01-17|2020-02-10|        afiyasembuh|Bantuan Medis & K...|\n",
      "|170413|Penggalangan untu...|    LIVE|1756214|2020-01-17|2020-02-10|        senyumqueen|Bantuan Medis & K...|\n",
      "|170406|Bantu untuk berob...|  FAILED|1756214|2020-01-16|2020-02-04|              frama|Bantuan Medis & K...|\n",
      "|170402|Anak saya masuk R...|  FAILED|1756214|2020-01-16|2020-01-26|              alfin|Bantuan Medis & K...|\n",
      "|170393|Syakilla Kuat ! S...|    LIVE|1756214|2020-01-16|2020-02-10|bantusyakillasembuh|Bantuan Medis & K...|\n",
      "|170386|Bantu Eko Hidup N...|    LIVE|1756214|2020-01-16|2020-02-10|ekoinginhidupnormal|Bantuan Medis & K...|\n",
      "+------+--------------------+--------+-------+----------+----------+-------------------+--------------------+\n",
      "only showing top 20 rows\n",
      "\n"
     ]
    }
   ],
   "source": [
    "campaign_cleaned.show()"
   ]
  },
  {
   "cell_type": "code",
   "execution_count": 87,
   "metadata": {},
   "outputs": [],
   "source": [
    "campaign_cleaned.createOrReplaceTempView(\"campaign\")"
   ]
  },
  {
   "cell_type": "code",
   "execution_count": 108,
   "metadata": {
    "scrolled": true
   },
   "outputs": [],
   "source": [
    "donation_amount = spark.sql(\"SELECT date_trunc('day', d.created),d.campaign_id,c.title,c.url, sum(d.amount) OVER (PARTITION BY date_trunc('day', d.created),campaign_id) as donation_amount FROM DONATION D INNER JOIN CAMPAIGN C ON D.campaign_id = C.id \")"
   ]
  },
  {
   "cell_type": "code",
   "execution_count": 109,
   "metadata": {},
   "outputs": [
    {
     "name": "stdout",
     "output_type": "stream",
     "text": [
      "+-------------------------------------------+-----------+--------------------+--------------+---------------+\n",
      "|date_trunc(day, CAST(created AS TIMESTAMP))|campaign_id|               title|           url|donation_amount|\n",
      "+-------------------------------------------+-----------+--------------------+--------------+---------------+\n",
      "|                        2019-12-31 00:00:00|      87067|#BisaSembuh Bersa...|    bisasembuh|        10000.0|\n",
      "|                        2020-01-01 00:00:00|      18856|Paket #THR2 untuk...|1000daitangguh|       210000.0|\n",
      "|                        2020-01-01 00:00:00|      18856|Paket #THR2 untuk...|1000daitangguh|       210000.0|\n",
      "|                        2019-12-07 00:00:00|     104915|#BisaSekolah Bers...|   bisasekolah|       100000.0|\n",
      "|                        2019-12-18 00:00:00|     115501|Gabung Bersama Ge...|    gojeksehat|        27000.0|\n",
      "|                        2019-12-18 00:00:00|     115501|Gabung Bersama Ge...|    gojeksehat|        27000.0|\n",
      "|                        2019-12-18 00:00:00|     115501|Gabung Bersama Ge...|    gojeksehat|        27000.0|\n",
      "|                        2019-12-18 00:00:00|     115501|Gabung Bersama Ge...|    gojeksehat|        27000.0|\n",
      "|                        2020-01-02 00:00:00|     115501|Gabung Bersama Ge...|    gojeksehat|        42000.0|\n",
      "|                        2020-01-02 00:00:00|     115501|Gabung Bersama Ge...|    gojeksehat|        42000.0|\n",
      "|                        2020-01-02 00:00:00|     115501|Gabung Bersama Ge...|    gojeksehat|        42000.0|\n",
      "|                        2020-01-02 00:00:00|     115501|Gabung Bersama Ge...|    gojeksehat|        42000.0|\n",
      "|                        2020-01-02 00:00:00|     115501|Gabung Bersama Ge...|    gojeksehat|        42000.0|\n",
      "|                        2020-01-02 00:00:00|     115501|Gabung Bersama Ge...|    gojeksehat|        42000.0|\n",
      "|                        2020-01-02 00:00:00|     115501|Gabung Bersama Ge...|    gojeksehat|        42000.0|\n",
      "|                        2020-01-02 00:00:00|     115501|Gabung Bersama Ge...|    gojeksehat|        42000.0|\n",
      "|                        2020-01-02 00:00:00|     115501|Gabung Bersama Ge...|    gojeksehat|        42000.0|\n",
      "|                        2019-12-22 00:00:00|      38661|Dukungan Indonesi...|    pesawatr80|         2000.0|\n",
      "|                        2019-12-07 00:00:00|      18856|Paket #THR2 untuk...|1000daitangguh|        30000.0|\n",
      "|                        2019-12-07 00:00:00|      18856|Paket #THR2 untuk...|1000daitangguh|        30000.0|\n",
      "+-------------------------------------------+-----------+--------------------+--------------+---------------+\n",
      "only showing top 20 rows\n",
      "\n"
     ]
    }
   ],
   "source": [
    "donation_amount.show()"
   ]
  },
  {
   "cell_type": "code",
   "execution_count": 100,
   "metadata": {},
   "outputs": [],
   "source": [
    "ads_spent = spark.read.csv('ads_spent.csv', header=True)"
   ]
  },
  {
   "cell_type": "code",
   "execution_count": 101,
   "metadata": {},
   "outputs": [
    {
     "name": "stdout",
     "output_type": "stream",
     "text": [
      "+---+----------+------------------+------+----------+\n",
      "| id|   date_id|         short_url| spend|impression|\n",
      "+---+----------+------------------+------+----------+\n",
      "|  3|2019-12-22|            ssbui1|121651|    844743|\n",
      "|  4|2019-12-15|        pesawatr80|195952|    872954|\n",
      "|  5|2020-01-13|            ssbui1|198188|    282817|\n",
      "|  6|2019-12-06|        pelaribaik| 12393|    111278|\n",
      "|  7|2019-12-11|       wakafquran2| 96313|    473216|\n",
      "|  8|2020-01-16|      asatunadaksa| 90957|    615544|\n",
      "|  9|2019-12-31|perpusbhinekaceria|153859|    195074|\n",
      "| 10|2020-01-13|      kampungidiot| 92633|    294330|\n",
      "| 11|2019-12-21|        bantukhuma| 67394|    422561|\n",
      "| 12|2019-12-06|        gojeksehat| 51071|    992184|\n",
      "| 13|2020-01-20|     kayuputihburu|155591|    489211|\n",
      "| 14|2019-12-06|       bisasekolah| 14534|    828275|\n",
      "| 15|2020-01-03|    bantumasardian|196307|    764643|\n",
      "| 16|2019-12-09|             frama| 43461|    626222|\n",
      "| 17|2020-01-08| saungbacapariaman| 57998|    784510|\n",
      "| 18|2019-12-16|       bisasekolah|118556|    644498|\n",
      "| 19|2020-01-20|          misribut|145314|    446909|\n",
      "| 20|2019-12-08|      bantuingrita| 73429|    222105|\n",
      "| 21|2019-12-09|      asatunadaksa| 15053|    551472|\n",
      "| 22|2020-01-04|      kampungidiot| 17021|    899926|\n",
      "+---+----------+------------------+------+----------+\n",
      "only showing top 20 rows\n",
      "\n"
     ]
    }
   ],
   "source": [
    "ads_spent.show()"
   ]
  },
  {
   "cell_type": "code",
   "execution_count": 102,
   "metadata": {},
   "outputs": [],
   "source": [
    "ads_spent.createOrReplaceTempView(\"ads_spent\")"
   ]
  },
  {
   "cell_type": "code",
   "execution_count": 110,
   "metadata": {},
   "outputs": [],
   "source": [
    "ads_spending = spark.sql(\"SELECT don.created_as,campaign_id,title,don.URL,donation_amount, SUM(spend) OVER(PARTITION BY don.created_as,campaign_id) as ads_spending FROM (SELECT date_trunc('day', D.created) AS created_as,D.campaign_id,C.title,C.URL, SUM(D.amount) OVER (PARTITION BY date_trunc('day', D.created),campaign_id) AS donation_amount FROM donation D  INNER JOIN campaign C ON D.campaign_id = C.ID) don LEFT JOIN ads_spent ads ON don.created_as = ads.date_id AND don.URL = ads.short_url ORDER BY 1,2;\")"
   ]
  },
  {
   "cell_type": "code",
   "execution_count": 111,
   "metadata": {},
   "outputs": [
    {
     "name": "stdout",
     "output_type": "stream",
     "text": [
      "+-------------------+-----------+--------------------+---------------+---------------+------------+\n",
      "|         created_as|campaign_id|               title|            URL|donation_amount|ads_spending|\n",
      "+-------------------+-----------+--------------------+---------------+---------------+------------+\n",
      "|2019-12-03 00:00:00|     115501|Gabung Bersama Ge...|     gojeksehat|        31000.0|        null|\n",
      "|2019-12-03 00:00:00|     115501|Gabung Bersama Ge...|     gojeksehat|        31000.0|        null|\n",
      "|2019-12-03 00:00:00|     115501|Gabung Bersama Ge...|     gojeksehat|        31000.0|        null|\n",
      "|2019-12-03 00:00:00|     115501|Gabung Bersama Ge...|     gojeksehat|        31000.0|        null|\n",
      "|2019-12-03 00:00:00|      18856|Paket #THR2 untuk...| 1000daitangguh|        10000.0|        null|\n",
      "|2019-12-03 00:00:00|      38661|Dukungan Indonesi...|     pesawatr80|        30000.0|        null|\n",
      "|2019-12-03 00:00:00|      38661|Dukungan Indonesi...|     pesawatr80|        30000.0|        null|\n",
      "|2019-12-04 00:00:00|      18856|Paket #THR2 untuk...| 1000daitangguh|        10000.0|        null|\n",
      "|2019-12-04 00:00:00|      38661|Dukungan Indonesi...|     pesawatr80|        10000.0|        null|\n",
      "|2019-12-05 00:00:00|     115501|Gabung Bersama Ge...|     gojeksehat|        20000.0|        null|\n",
      "|2019-12-05 00:00:00|     115501|Gabung Bersama Ge...|     gojeksehat|        20000.0|        null|\n",
      "|2019-12-05 00:00:00|      18856|Paket #THR2 untuk...| 1000daitangguh|        10000.0|        null|\n",
      "|2019-12-06 00:00:00|      38661|Dukungan Indonesi...|     pesawatr80|        25000.0|        null|\n",
      "|2019-12-07 00:00:00|     104915|#BisaSekolah Bers...|    bisasekolah|       100000.0|        null|\n",
      "|2019-12-07 00:00:00|     146467|   medis rumah sakit|medisrumahsakit|       100000.0|        null|\n",
      "|2019-12-07 00:00:00|      18856|Paket #THR2 untuk...| 1000daitangguh|        30000.0|        null|\n",
      "|2019-12-07 00:00:00|      18856|Paket #THR2 untuk...| 1000daitangguh|        30000.0|        null|\n",
      "|2019-12-07 00:00:00|      18856|Paket #THR2 untuk...| 1000daitangguh|        30000.0|        null|\n",
      "|2019-12-08 00:00:00|     115501|Gabung Bersama Ge...|     gojeksehat|         1000.0|        null|\n",
      "|2019-12-08 00:00:00|      18856|Paket #THR2 untuk...| 1000daitangguh|        20000.0|        null|\n",
      "+-------------------+-----------+--------------------+---------------+---------------+------------+\n",
      "only showing top 20 rows\n",
      "\n"
     ]
    }
   ],
   "source": [
    "ads_spending.show()"
   ]
  },
  {
   "cell_type": "code",
   "execution_count": 114,
   "metadata": {},
   "outputs": [],
   "source": [
    "total_donation = spark.sql(\"  SELECT don.created_as,campaign_id,title,don.URL,donation_amount,total_donation, SUM(spend) OVER(PARTITION BY don.created_as,campaign_id) as ads_spending FROM (SELECT date_trunc('day', D.created) AS created_as,D.campaign_id,C.title,C.URL, SUM(D.amount) OVER (PARTITION BY date_trunc('day', D.created),campaign_id) AS donation_amount, COUNT(D.user_id) OVER (PARTITION BY date_trunc('day', D.created),campaign_id) AS total_donation FROM donation D INNER JOIN campaign C ON D.campaign_id = C.ID) don LEFT JOIN ads_spent ads ON don.created_as = ads.date_id AND don.URL = ads.short_url ORDER BY 1,2;\")"
   ]
  },
  {
   "cell_type": "code",
   "execution_count": 115,
   "metadata": {},
   "outputs": [
    {
     "name": "stdout",
     "output_type": "stream",
     "text": [
      "+-------------------+-----------+--------------------+---------------+---------------+--------------+------------+\n",
      "|         created_as|campaign_id|               title|            URL|donation_amount|total_donation|ads_spending|\n",
      "+-------------------+-----------+--------------------+---------------+---------------+--------------+------------+\n",
      "|2019-12-03 00:00:00|     115501|Gabung Bersama Ge...|     gojeksehat|        31000.0|             4|        null|\n",
      "|2019-12-03 00:00:00|     115501|Gabung Bersama Ge...|     gojeksehat|        31000.0|             4|        null|\n",
      "|2019-12-03 00:00:00|     115501|Gabung Bersama Ge...|     gojeksehat|        31000.0|             4|        null|\n",
      "|2019-12-03 00:00:00|     115501|Gabung Bersama Ge...|     gojeksehat|        31000.0|             4|        null|\n",
      "|2019-12-03 00:00:00|      18856|Paket #THR2 untuk...| 1000daitangguh|        10000.0|             1|        null|\n",
      "|2019-12-03 00:00:00|      38661|Dukungan Indonesi...|     pesawatr80|        30000.0|             2|        null|\n",
      "|2019-12-03 00:00:00|      38661|Dukungan Indonesi...|     pesawatr80|        30000.0|             2|        null|\n",
      "|2019-12-04 00:00:00|      18856|Paket #THR2 untuk...| 1000daitangguh|        10000.0|             1|        null|\n",
      "|2019-12-04 00:00:00|      38661|Dukungan Indonesi...|     pesawatr80|        10000.0|             1|        null|\n",
      "|2019-12-05 00:00:00|     115501|Gabung Bersama Ge...|     gojeksehat|        20000.0|             2|        null|\n",
      "|2019-12-05 00:00:00|     115501|Gabung Bersama Ge...|     gojeksehat|        20000.0|             2|        null|\n",
      "|2019-12-05 00:00:00|      18856|Paket #THR2 untuk...| 1000daitangguh|        10000.0|             1|        null|\n",
      "|2019-12-06 00:00:00|      38661|Dukungan Indonesi...|     pesawatr80|        25000.0|             1|        null|\n",
      "|2019-12-07 00:00:00|     104915|#BisaSekolah Bers...|    bisasekolah|       100000.0|             1|        null|\n",
      "|2019-12-07 00:00:00|     146467|   medis rumah sakit|medisrumahsakit|       100000.0|             1|        null|\n",
      "|2019-12-07 00:00:00|      18856|Paket #THR2 untuk...| 1000daitangguh|        30000.0|             3|        null|\n",
      "|2019-12-07 00:00:00|      18856|Paket #THR2 untuk...| 1000daitangguh|        30000.0|             3|        null|\n",
      "|2019-12-07 00:00:00|      18856|Paket #THR2 untuk...| 1000daitangguh|        30000.0|             3|        null|\n",
      "|2019-12-08 00:00:00|     115501|Gabung Bersama Ge...|     gojeksehat|         1000.0|             1|        null|\n",
      "|2019-12-08 00:00:00|      18856|Paket #THR2 untuk...| 1000daitangguh|        20000.0|             1|        null|\n",
      "+-------------------+-----------+--------------------+---------------+---------------+--------------+------------+\n",
      "only showing top 20 rows\n",
      "\n"
     ]
    }
   ],
   "source": [
    "total_donation.show()"
   ]
  },
  {
   "cell_type": "code",
   "execution_count": 116,
   "metadata": {},
   "outputs": [],
   "source": [
    "visit = spark.read.csv('visit.csv', header=True)"
   ]
  },
  {
   "cell_type": "code",
   "execution_count": 117,
   "metadata": {},
   "outputs": [
    {
     "name": "stdout",
     "output_type": "stream",
     "text": [
      "+------+----------+-------------------+---------+--------+-----------+\n",
      "|    id|   date_id|       campaign_url| platform|pageview|unique_user|\n",
      "+------+----------+-------------------+---------+--------+-----------+\n",
      "|296681|2019-12-15|   bantuaseptaryana|      app|     284|         21|\n",
      "|177881|2020-01-21|            sunarni|      app|     322|         93|\n",
      "|298996|2020-01-14|            cowrity|3rd party|     483|         16|\n",
      "|116895|2020-01-26|         bantumerin|      app|     793|         28|\n",
      "|158491|2020-01-09|      gerobakcerdas|      web|     952|         13|\n",
      "|216419|2019-12-16|   bantuaseptaryana|3rd party|     327|         21|\n",
      "|193524|2019-12-14|              frama|      web|     149|         41|\n",
      "|202163|2020-01-14|          busdondar|      app|     494|         49|\n",
      "|294184|2020-01-26|         bisasembuh|      web|     826|         55|\n",
      "|185567|2019-12-13|       fredyjunaedy|      app|     456|         84|\n",
      "|223991|2019-12-22|         bantukhuma|3rd party|     651|         57|\n",
      "|180362|2020-01-19|     dreamdelionbdg|      app|     255|         11|\n",
      "|110024|2019-12-24|     kampungsarjana|3rd party|     727|         70|\n",
      "|288328|2020-01-12|  tangisanbayizahra|      app|     598|         66|\n",
      "|208730|2020-01-09|     parcelnalacity|      web|     300|         54|\n",
      "|169404|2019-12-16|bantusyakillasembuh|3rd party|     959|         15|\n",
      "|182322|2020-01-12|      banturokhis04|      app|     618|         54|\n",
      "|125343|2019-12-20|     bantutemandini|      app|     960|         13|\n",
      "|123671|2020-01-09|        senyumqueen|3rd party|     181|         68|\n",
      "|106555|2019-12-15|    sulaimanalfatih|3rd party|     536|         94|\n",
      "+------+----------+-------------------+---------+--------+-----------+\n",
      "only showing top 20 rows\n",
      "\n"
     ]
    }
   ],
   "source": [
    "visit.show()"
   ]
  },
  {
   "cell_type": "code",
   "execution_count": 118,
   "metadata": {},
   "outputs": [],
   "source": [
    "visit.createOrReplaceTempView(\"visit\")"
   ]
  },
  {
   "cell_type": "code",
   "execution_count": 121,
   "metadata": {},
   "outputs": [],
   "source": [
    "pageview=spark.sql(\"SELECT don.created_as,campaign_id,title,don.url,donation_amount,total_donation, sum(spend) over(partition by don.created_as,campaign_id) as ads_spending, SUM(v.pageview) OVER(PARTITION BY DON.CREATED_AS,CAMPAIGN_ID) as pageview from (SELECT date_trunc('day', d.created) as created_as,d.campaign_id,c.title,c.url, sum(d.amount) OVER (PARTITION BY date_trunc('day', d.created),campaign_id) as donation_amount, count(d.user_id) OVER (PARTITION BY date_trunc('day', d.created),campaign_id) as total_donation FROM DONATION D  INNER JOIN CAMPAIGN C ON D.campaign_id = C.id) don LEFT JOIN ADS_SPENT ADS ON don.created_as = ads.date_id and don.url = ads.short_url LEFT JOIN VISIT V ON don.created_as = v.date_id and don.url = v.campaign_url order by 1,2;\")"
   ]
  },
  {
   "cell_type": "code",
   "execution_count": 122,
   "metadata": {},
   "outputs": [
    {
     "name": "stdout",
     "output_type": "stream",
     "text": [
      "+-------------------+-----------+--------------------+---------------+---------------+--------------+------------+--------+\n",
      "|         created_as|campaign_id|               title|            url|donation_amount|total_donation|ads_spending|pageview|\n",
      "+-------------------+-----------+--------------------+---------------+---------------+--------------+------------+--------+\n",
      "|2019-12-03 00:00:00|     115501|Gabung Bersama Ge...|     gojeksehat|        31000.0|             4|        null|    null|\n",
      "|2019-12-03 00:00:00|     115501|Gabung Bersama Ge...|     gojeksehat|        31000.0|             4|        null|    null|\n",
      "|2019-12-03 00:00:00|     115501|Gabung Bersama Ge...|     gojeksehat|        31000.0|             4|        null|    null|\n",
      "|2019-12-03 00:00:00|     115501|Gabung Bersama Ge...|     gojeksehat|        31000.0|             4|        null|    null|\n",
      "|2019-12-03 00:00:00|      18856|Paket #THR2 untuk...| 1000daitangguh|        10000.0|             1|        null|    null|\n",
      "|2019-12-03 00:00:00|      38661|Dukungan Indonesi...|     pesawatr80|        30000.0|             2|        null|  1754.0|\n",
      "|2019-12-03 00:00:00|      38661|Dukungan Indonesi...|     pesawatr80|        30000.0|             2|        null|  1754.0|\n",
      "|2019-12-03 00:00:00|      38661|Dukungan Indonesi...|     pesawatr80|        30000.0|             2|        null|  1754.0|\n",
      "|2019-12-03 00:00:00|      38661|Dukungan Indonesi...|     pesawatr80|        30000.0|             2|        null|  1754.0|\n",
      "|2019-12-04 00:00:00|      18856|Paket #THR2 untuk...| 1000daitangguh|        10000.0|             1|        null|    null|\n",
      "|2019-12-04 00:00:00|      38661|Dukungan Indonesi...|     pesawatr80|        10000.0|             1|        null|   803.0|\n",
      "|2019-12-05 00:00:00|     115501|Gabung Bersama Ge...|     gojeksehat|        20000.0|             2|        null|   326.0|\n",
      "|2019-12-05 00:00:00|     115501|Gabung Bersama Ge...|     gojeksehat|        20000.0|             2|        null|   326.0|\n",
      "|2019-12-05 00:00:00|      18856|Paket #THR2 untuk...| 1000daitangguh|        10000.0|             1|        null|    null|\n",
      "|2019-12-06 00:00:00|      38661|Dukungan Indonesi...|     pesawatr80|        25000.0|             1|        null|    null|\n",
      "|2019-12-07 00:00:00|     104915|#BisaSekolah Bers...|    bisasekolah|       100000.0|             1|        null|    null|\n",
      "|2019-12-07 00:00:00|     146467|   medis rumah sakit|medisrumahsakit|       100000.0|             1|        null|    null|\n",
      "|2019-12-07 00:00:00|      18856|Paket #THR2 untuk...| 1000daitangguh|        30000.0|             3|        null|    null|\n",
      "|2019-12-07 00:00:00|      18856|Paket #THR2 untuk...| 1000daitangguh|        30000.0|             3|        null|    null|\n",
      "|2019-12-07 00:00:00|      18856|Paket #THR2 untuk...| 1000daitangguh|        30000.0|             3|        null|    null|\n",
      "+-------------------+-----------+--------------------+---------------+---------------+--------------+------------+--------+\n",
      "only showing top 20 rows\n",
      "\n"
     ]
    }
   ],
   "source": [
    "pageview.show()"
   ]
  },
  {
   "cell_type": "code",
   "execution_count": 128,
   "metadata": {},
   "outputs": [],
   "source": [
    "convertion_rate_final = spark.sql(\"SELECT created_dt,campaign_id,title,URL,donation_amount,total_donation,ads_spending,total_pageview,(total_donation/total_pageview)*100 AS convertion_rate,(ads_spending/donation_amount)* 100 AS spending_per_donation_rate FROM (SELECT don.created_dt,campaign_id,title,don.URL,donation_amount,total_donation, SUM(spend) OVER(PARTITION BY don.created_dt,campaign_id) AS ads_spending, SUM(V.pageview) OVER(PARTITION BY don.created_dt,campaign_id) AS total_pageview FROM (SELECT date_trunc('day', D.created) AS created_dt,D.campaign_id,C.title,C.URL, SUM(D.amount) OVER (PARTITION BY date_trunc('day', D.created),campaign_id) AS donation_amount, COUNT(D.user_id) OVER (PARTITION BY date_trunc('day', D.created),campaign_id) AS total_donation FROM donation D  INNER JOIN campaign C ON D.campaign_id = C.ID) don LEFT JOIN ads_spent ads ON don.created_dt = ads.date_id AND don.URL = ads.short_url LEFT JOIN visit V ON don.created_dt = V.date_id AND don.URL = V.campaign_url ORDER BY 1,2) FINAL GROUP BY 1,2,3,4,5,6,7,8 ORDER BY 9;\")"
   ]
  },
  {
   "cell_type": "code",
   "execution_count": 129,
   "metadata": {},
   "outputs": [
    {
     "name": "stdout",
     "output_type": "stream",
     "text": [
      "+-------------------+-----------+--------------------+---------------+---------------+--------------+------------+--------------+---------------+--------------------------+\n",
      "|         created_dt|campaign_id|               title|            URL|donation_amount|total_donation|ads_spending|total_pageview|convertion_rate|spending_per_donation_rate|\n",
      "+-------------------+-----------+--------------------+---------------+---------------+--------------+------------+--------------+---------------+--------------------------+\n",
      "|2019-12-17 00:00:00|      92799|Bantu Merin Melaw...|     bantumerin|        10000.0|             1|        null|          null|           null|                      null|\n",
      "|2019-12-25 00:00:00|     146467|   medis rumah sakit|medisrumahsakit|        10000.0|             1|        null|          null|           null|                      null|\n",
      "|2020-01-13 00:00:00|      18856|Paket #THR2 untuk...| 1000daitangguh|         1000.0|             1|        null|          null|           null|                      null|\n",
      "|2020-01-01 00:00:00|      18856|Paket #THR2 untuk...| 1000daitangguh|       210000.0|             2|        null|          null|           null|                      null|\n",
      "|2019-12-07 00:00:00|     104915|#BisaSekolah Bers...|    bisasekolah|       100000.0|             1|        null|          null|           null|                      null|\n",
      "|2019-12-18 00:00:00|     115501|Gabung Bersama Ge...|     gojeksehat|        27000.0|             4|        null|          null|           null|                      null|\n",
      "|2020-01-02 00:00:00|     115501|Gabung Bersama Ge...|     gojeksehat|        42000.0|             9|        null|          null|           null|                      null|\n",
      "|2019-12-07 00:00:00|      18856|Paket #THR2 untuk...| 1000daitangguh|        30000.0|             3|        null|          null|           null|                      null|\n",
      "|2020-01-06 00:00:00|     115501|Gabung Bersama Ge...|     gojeksehat|        12000.0|             2|        null|          null|           null|                      null|\n",
      "|2019-12-22 00:00:00|      38661|Dukungan Indonesi...|     pesawatr80|         2000.0|             1|        null|          null|           null|                      null|\n",
      "|2019-12-31 00:00:00|      87067|#BisaSembuh Bersa...|     bisasembuh|        10000.0|             1|        null|          null|           null|                      null|\n",
      "|2019-12-27 00:00:00|      18856|Paket #THR2 untuk...| 1000daitangguh|        20000.0|             1|        null|          null|           null|                      null|\n",
      "|2020-01-06 00:00:00|      19117|bantu ojan gerak ...|       opengoal|        10000.0|             1|        null|          null|           null|                      null|\n",
      "|2019-12-18 00:00:00|      38661|Dukungan Indonesi...|     pesawatr80|        13000.0|             1|        null|          null|           null|                      null|\n",
      "|2020-01-17 00:00:00|     115501|Gabung Bersama Ge...|     gojeksehat|       100000.0|             1|        null|          null|           null|                      null|\n",
      "|2019-12-19 00:00:00|      38661|Dukungan Indonesi...|     pesawatr80|        28000.0|             2|        null|          null|           null|                      null|\n",
      "|2019-12-29 00:00:00|     115501|Gabung Bersama Ge...|     gojeksehat|         2000.0|             2|        null|          null|           null|                      null|\n",
      "|2019-12-20 00:00:00|      18856|Paket #THR2 untuk...| 1000daitangguh|        10000.0|             1|        null|          null|           null|                      null|\n",
      "|2019-12-21 00:00:00|      18856|Paket #THR2 untuk...| 1000daitangguh|        10000.0|             1|        null|          null|           null|                      null|\n",
      "|2019-12-19 00:00:00|      18856|Paket #THR2 untuk...| 1000daitangguh|        20000.0|             1|        null|          null|           null|                      null|\n",
      "+-------------------+-----------+--------------------+---------------+---------------+--------------+------------+--------------+---------------+--------------------------+\n",
      "only showing top 20 rows\n",
      "\n"
     ]
    }
   ],
   "source": [
    "convertion_rate_final.show()"
   ]
  },
  {
   "cell_type": "code",
   "execution_count": null,
   "metadata": {},
   "outputs": [],
   "source": []
  }
 ],
 "metadata": {
  "kernelspec": {
   "display_name": "Python 3",
   "language": "python",
   "name": "python3"
  },
  "language_info": {
   "codemirror_mode": {
    "name": "ipython",
    "version": 3
   },
   "file_extension": ".py",
   "mimetype": "text/x-python",
   "name": "python",
   "nbconvert_exporter": "python",
   "pygments_lexer": "ipython3",
   "version": "3.8.4"
  }
 },
 "nbformat": 4,
 "nbformat_minor": 4
}
